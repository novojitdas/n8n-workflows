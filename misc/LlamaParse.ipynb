{
  "nbformat": 4,
  "nbformat_minor": 0,
  "metadata": {
    "colab": {
      "provenance": []
    },
    "kernelspec": {
      "name": "python3",
      "display_name": "Python 3"
    },
    "language_info": {
      "name": "python"
    }
  },
  "cells": [
    {
      "cell_type": "code",
      "source": [
        "%pip install llama-parse\n"
      ],
      "metadata": {
        "id": "pHovlqd3zWV1",
        "colab": {
          "base_uri": "https://localhost:8080/"
        },
        "outputId": "957acf67-1bee-4aeb-896b-f0dd8b708369"
      },
      "execution_count": null,
      "outputs": [
        {
          "output_type": "stream",
          "name": "stdout",
          "text": [
            "Collecting llama-parse\n",
            "  Downloading llama_parse-0.4.5-py3-none-any.whl (9.1 kB)\n",
            "Collecting llama-index-core>=0.10.29 (from llama-parse)\n",
            "  Downloading llama_index_core-0.10.52.post2-py3-none-any.whl (15.4 MB)\n",
            "\u001b[2K     \u001b[90m━━━━━━━━━━━━━━━━━━━━━━━━━━━━━━━━━━━━━━━━\u001b[0m \u001b[32m15.4/15.4 MB\u001b[0m \u001b[31m37.3 MB/s\u001b[0m eta \u001b[36m0:00:00\u001b[0m\n",
            "\u001b[?25hRequirement already satisfied: PyYAML>=6.0.1 in /usr/local/lib/python3.10/dist-packages (from llama-index-core>=0.10.29->llama-parse) (6.0.1)\n",
            "Requirement already satisfied: SQLAlchemy[asyncio]>=1.4.49 in /usr/local/lib/python3.10/dist-packages (from llama-index-core>=0.10.29->llama-parse) (2.0.31)\n",
            "Requirement already satisfied: aiohttp<4.0.0,>=3.8.6 in /usr/local/lib/python3.10/dist-packages (from llama-index-core>=0.10.29->llama-parse) (3.9.5)\n",
            "Collecting dataclasses-json (from llama-index-core>=0.10.29->llama-parse)\n",
            "  Downloading dataclasses_json-0.6.7-py3-none-any.whl (28 kB)\n",
            "Collecting deprecated>=1.2.9.3 (from llama-index-core>=0.10.29->llama-parse)\n",
            "  Downloading Deprecated-1.2.14-py2.py3-none-any.whl (9.6 kB)\n",
            "Collecting dirtyjson<2.0.0,>=1.0.8 (from llama-index-core>=0.10.29->llama-parse)\n",
            "  Downloading dirtyjson-1.0.8-py3-none-any.whl (25 kB)\n",
            "Requirement already satisfied: fsspec>=2023.5.0 in /usr/local/lib/python3.10/dist-packages (from llama-index-core>=0.10.29->llama-parse) (2023.6.0)\n",
            "Collecting httpx (from llama-index-core>=0.10.29->llama-parse)\n",
            "  Downloading httpx-0.27.0-py3-none-any.whl (75 kB)\n",
            "\u001b[2K     \u001b[90m━━━━━━━━━━━━━━━━━━━━━━━━━━━━━━━━━━━━━━━━\u001b[0m \u001b[32m75.6/75.6 kB\u001b[0m \u001b[31m8.0 MB/s\u001b[0m eta \u001b[36m0:00:00\u001b[0m\n",
            "\u001b[?25hCollecting llama-cloud<0.0.7,>=0.0.6 (from llama-index-core>=0.10.29->llama-parse)\n",
            "  Downloading llama_cloud-0.0.6-py3-none-any.whl (130 kB)\n",
            "\u001b[2K     \u001b[90m━━━━━━━━━━━━━━━━━━━━━━━━━━━━━━━━━━━━━━━━\u001b[0m \u001b[32m130.8/130.8 kB\u001b[0m \u001b[31m11.8 MB/s\u001b[0m eta \u001b[36m0:00:00\u001b[0m\n",
            "\u001b[?25hRequirement already satisfied: nest-asyncio<2.0.0,>=1.5.8 in /usr/local/lib/python3.10/dist-packages (from llama-index-core>=0.10.29->llama-parse) (1.6.0)\n",
            "Requirement already satisfied: networkx>=3.0 in /usr/local/lib/python3.10/dist-packages (from llama-index-core>=0.10.29->llama-parse) (3.3)\n",
            "Requirement already satisfied: nltk<4.0.0,>=3.8.1 in /usr/local/lib/python3.10/dist-packages (from llama-index-core>=0.10.29->llama-parse) (3.8.1)\n",
            "Requirement already satisfied: numpy<2.0.0 in /usr/local/lib/python3.10/dist-packages (from llama-index-core>=0.10.29->llama-parse) (1.25.2)\n",
            "Collecting openai>=1.1.0 (from llama-index-core>=0.10.29->llama-parse)\n",
            "  Downloading openai-1.35.10-py3-none-any.whl (328 kB)\n",
            "\u001b[2K     \u001b[90m━━━━━━━━━━━━━━━━━━━━━━━━━━━━━━━━━━━━━━━━\u001b[0m \u001b[32m328.3/328.3 kB\u001b[0m \u001b[31m17.5 MB/s\u001b[0m eta \u001b[36m0:00:00\u001b[0m\n",
            "\u001b[?25hRequirement already satisfied: pandas in /usr/local/lib/python3.10/dist-packages (from llama-index-core>=0.10.29->llama-parse) (2.0.3)\n",
            "Requirement already satisfied: pillow>=9.0.0 in /usr/local/lib/python3.10/dist-packages (from llama-index-core>=0.10.29->llama-parse) (9.4.0)\n",
            "Requirement already satisfied: requests>=2.31.0 in /usr/local/lib/python3.10/dist-packages (from llama-index-core>=0.10.29->llama-parse) (2.31.0)\n",
            "Requirement already satisfied: tenacity!=8.4.0,<9.0.0,>=8.2.0 in /usr/local/lib/python3.10/dist-packages (from llama-index-core>=0.10.29->llama-parse) (8.4.2)\n",
            "Collecting tiktoken>=0.3.3 (from llama-index-core>=0.10.29->llama-parse)\n",
            "  Downloading tiktoken-0.7.0-cp310-cp310-manylinux_2_17_x86_64.manylinux2014_x86_64.whl (1.1 MB)\n",
            "\u001b[2K     \u001b[90m━━━━━━━━━━━━━━━━━━━━━━━━━━━━━━━━━━━━━━━━\u001b[0m \u001b[32m1.1/1.1 MB\u001b[0m \u001b[31m23.2 MB/s\u001b[0m eta \u001b[36m0:00:00\u001b[0m\n",
            "\u001b[?25hRequirement already satisfied: tqdm<5.0.0,>=4.66.1 in /usr/local/lib/python3.10/dist-packages (from llama-index-core>=0.10.29->llama-parse) (4.66.4)\n",
            "Requirement already satisfied: typing-extensions>=4.5.0 in /usr/local/lib/python3.10/dist-packages (from llama-index-core>=0.10.29->llama-parse) (4.12.2)\n",
            "Collecting typing-inspect>=0.8.0 (from llama-index-core>=0.10.29->llama-parse)\n",
            "  Downloading typing_inspect-0.9.0-py3-none-any.whl (8.8 kB)\n",
            "Requirement already satisfied: wrapt in /usr/local/lib/python3.10/dist-packages (from llama-index-core>=0.10.29->llama-parse) (1.14.1)\n",
            "Requirement already satisfied: aiosignal>=1.1.2 in /usr/local/lib/python3.10/dist-packages (from aiohttp<4.0.0,>=3.8.6->llama-index-core>=0.10.29->llama-parse) (1.3.1)\n",
            "Requirement already satisfied: attrs>=17.3.0 in /usr/local/lib/python3.10/dist-packages (from aiohttp<4.0.0,>=3.8.6->llama-index-core>=0.10.29->llama-parse) (23.2.0)\n",
            "Requirement already satisfied: frozenlist>=1.1.1 in /usr/local/lib/python3.10/dist-packages (from aiohttp<4.0.0,>=3.8.6->llama-index-core>=0.10.29->llama-parse) (1.4.1)\n",
            "Requirement already satisfied: multidict<7.0,>=4.5 in /usr/local/lib/python3.10/dist-packages (from aiohttp<4.0.0,>=3.8.6->llama-index-core>=0.10.29->llama-parse) (6.0.5)\n",
            "Requirement already satisfied: yarl<2.0,>=1.0 in /usr/local/lib/python3.10/dist-packages (from aiohttp<4.0.0,>=3.8.6->llama-index-core>=0.10.29->llama-parse) (1.9.4)\n",
            "Requirement already satisfied: async-timeout<5.0,>=4.0 in /usr/local/lib/python3.10/dist-packages (from aiohttp<4.0.0,>=3.8.6->llama-index-core>=0.10.29->llama-parse) (4.0.3)\n",
            "Requirement already satisfied: pydantic>=1.10 in /usr/local/lib/python3.10/dist-packages (from llama-cloud<0.0.7,>=0.0.6->llama-index-core>=0.10.29->llama-parse) (2.8.0)\n",
            "Requirement already satisfied: anyio in /usr/local/lib/python3.10/dist-packages (from httpx->llama-index-core>=0.10.29->llama-parse) (3.7.1)\n",
            "Requirement already satisfied: certifi in /usr/local/lib/python3.10/dist-packages (from httpx->llama-index-core>=0.10.29->llama-parse) (2024.6.2)\n",
            "Collecting httpcore==1.* (from httpx->llama-index-core>=0.10.29->llama-parse)\n",
            "  Downloading httpcore-1.0.5-py3-none-any.whl (77 kB)\n",
            "\u001b[2K     \u001b[90m━━━━━━━━━━━━━━━━━━━━━━━━━━━━━━━━━━━━━━━━\u001b[0m \u001b[32m77.9/77.9 kB\u001b[0m \u001b[31m8.3 MB/s\u001b[0m eta \u001b[36m0:00:00\u001b[0m\n",
            "\u001b[?25hRequirement already satisfied: idna in /usr/local/lib/python3.10/dist-packages (from httpx->llama-index-core>=0.10.29->llama-parse) (3.7)\n",
            "Requirement already satisfied: sniffio in /usr/local/lib/python3.10/dist-packages (from httpx->llama-index-core>=0.10.29->llama-parse) (1.3.1)\n",
            "Collecting h11<0.15,>=0.13 (from httpcore==1.*->httpx->llama-index-core>=0.10.29->llama-parse)\n",
            "  Downloading h11-0.14.0-py3-none-any.whl (58 kB)\n",
            "\u001b[2K     \u001b[90m━━━━━━━━━━━━━━━━━━━━━━━━━━━━━━━━━━━━━━━━\u001b[0m \u001b[32m58.3/58.3 kB\u001b[0m \u001b[31m6.3 MB/s\u001b[0m eta \u001b[36m0:00:00\u001b[0m\n",
            "\u001b[?25hRequirement already satisfied: click in /usr/local/lib/python3.10/dist-packages (from nltk<4.0.0,>=3.8.1->llama-index-core>=0.10.29->llama-parse) (8.1.7)\n",
            "Requirement already satisfied: joblib in /usr/local/lib/python3.10/dist-packages (from nltk<4.0.0,>=3.8.1->llama-index-core>=0.10.29->llama-parse) (1.4.2)\n",
            "Requirement already satisfied: regex>=2021.8.3 in /usr/local/lib/python3.10/dist-packages (from nltk<4.0.0,>=3.8.1->llama-index-core>=0.10.29->llama-parse) (2024.5.15)\n",
            "Requirement already satisfied: distro<2,>=1.7.0 in /usr/lib/python3/dist-packages (from openai>=1.1.0->llama-index-core>=0.10.29->llama-parse) (1.7.0)\n",
            "Requirement already satisfied: charset-normalizer<4,>=2 in /usr/local/lib/python3.10/dist-packages (from requests>=2.31.0->llama-index-core>=0.10.29->llama-parse) (3.3.2)\n",
            "Requirement already satisfied: urllib3<3,>=1.21.1 in /usr/local/lib/python3.10/dist-packages (from requests>=2.31.0->llama-index-core>=0.10.29->llama-parse) (2.0.7)\n",
            "Requirement already satisfied: greenlet!=0.4.17 in /usr/local/lib/python3.10/dist-packages (from SQLAlchemy[asyncio]>=1.4.49->llama-index-core>=0.10.29->llama-parse) (3.0.3)\n",
            "Collecting mypy-extensions>=0.3.0 (from typing-inspect>=0.8.0->llama-index-core>=0.10.29->llama-parse)\n",
            "  Downloading mypy_extensions-1.0.0-py3-none-any.whl (4.7 kB)\n",
            "Collecting marshmallow<4.0.0,>=3.18.0 (from dataclasses-json->llama-index-core>=0.10.29->llama-parse)\n",
            "  Downloading marshmallow-3.21.3-py3-none-any.whl (49 kB)\n",
            "\u001b[2K     \u001b[90m━━━━━━━━━━━━━━━━━━━━━━━━━━━━━━━━━━━━━━━━\u001b[0m \u001b[32m49.2/49.2 kB\u001b[0m \u001b[31m3.7 MB/s\u001b[0m eta \u001b[36m0:00:00\u001b[0m\n",
            "\u001b[?25hRequirement already satisfied: python-dateutil>=2.8.2 in /usr/local/lib/python3.10/dist-packages (from pandas->llama-index-core>=0.10.29->llama-parse) (2.8.2)\n",
            "Requirement already satisfied: pytz>=2020.1 in /usr/local/lib/python3.10/dist-packages (from pandas->llama-index-core>=0.10.29->llama-parse) (2023.4)\n",
            "Requirement already satisfied: tzdata>=2022.1 in /usr/local/lib/python3.10/dist-packages (from pandas->llama-index-core>=0.10.29->llama-parse) (2024.1)\n",
            "Requirement already satisfied: exceptiongroup in /usr/local/lib/python3.10/dist-packages (from anyio->httpx->llama-index-core>=0.10.29->llama-parse) (1.2.1)\n",
            "Requirement already satisfied: packaging>=17.0 in /usr/local/lib/python3.10/dist-packages (from marshmallow<4.0.0,>=3.18.0->dataclasses-json->llama-index-core>=0.10.29->llama-parse) (24.1)\n",
            "Requirement already satisfied: annotated-types>=0.4.0 in /usr/local/lib/python3.10/dist-packages (from pydantic>=1.10->llama-cloud<0.0.7,>=0.0.6->llama-index-core>=0.10.29->llama-parse) (0.7.0)\n",
            "Requirement already satisfied: pydantic-core==2.20.0 in /usr/local/lib/python3.10/dist-packages (from pydantic>=1.10->llama-cloud<0.0.7,>=0.0.6->llama-index-core>=0.10.29->llama-parse) (2.20.0)\n",
            "Requirement already satisfied: six>=1.5 in /usr/local/lib/python3.10/dist-packages (from python-dateutil>=2.8.2->pandas->llama-index-core>=0.10.29->llama-parse) (1.16.0)\n",
            "Installing collected packages: dirtyjson, mypy-extensions, marshmallow, h11, deprecated, typing-inspect, tiktoken, httpcore, httpx, dataclasses-json, openai, llama-cloud, llama-index-core, llama-parse\n",
            "Successfully installed dataclasses-json-0.6.7 deprecated-1.2.14 dirtyjson-1.0.8 h11-0.14.0 httpcore-1.0.5 httpx-0.27.0 llama-cloud-0.0.6 llama-index-core-0.10.52.post2 llama-parse-0.4.5 marshmallow-3.21.3 mypy-extensions-1.0.0 openai-1.35.10 tiktoken-0.7.0 typing-inspect-0.9.0\n"
          ]
        }
      ]
    },
    {
      "cell_type": "code",
      "source": [
        "!wget \"https://s2.q4cdn.com/470004039/files/doc_financials/2021/q4/_10-K-2021-(As-Filed).pdf\" -O apple_10k.pdf\n"
      ],
      "metadata": {
        "colab": {
          "base_uri": "https://localhost:8080/"
        },
        "id": "x3Y2nAcBzWxz",
        "outputId": "052a9933-a7a0-4536-d9a2-53ad1c026760"
      },
      "execution_count": null,
      "outputs": [
        {
          "output_type": "stream",
          "name": "stdout",
          "text": [
            "--2024-07-04 21:02:39--  https://s2.q4cdn.com/470004039/files/doc_financials/2021/q4/_10-K-2021-(As-Filed).pdf\n",
            "Resolving s2.q4cdn.com (s2.q4cdn.com)... 68.70.205.2, 68.70.205.3, 68.70.205.4, ...\n",
            "Connecting to s2.q4cdn.com (s2.q4cdn.com)|68.70.205.2|:443... connected.\n",
            "HTTP request sent, awaiting response... 200 OK\n",
            "Length: 789896 (771K) [application/pdf]\n",
            "Saving to: ‘apple_10k.pdf’\n",
            "\n",
            "\rapple_10k.pdf         0%[                    ]       0  --.-KB/s               \rapple_10k.pdf       100%[===================>] 771.38K  --.-KB/s    in 0.07s   \n",
            "\n",
            "2024-07-04 21:02:39 (11.2 MB/s) - ‘apple_10k.pdf’ saved [789896/789896]\n",
            "\n"
          ]
        }
      ]
    },
    {
      "cell_type": "code",
      "source": [
        "import nest_asyncio\n",
        "\n",
        "nest_asyncio.apply()"
      ],
      "metadata": {
        "id": "e5uAizOEzcVT"
      },
      "execution_count": null,
      "outputs": []
    },
    {
      "cell_type": "code",
      "source": [
        "import os\n",
        "\n",
        "os.environ[\"LLAMA_CLOUD_API_KEY\"] = \"llx-anNzjfEoNl9XoTy7DAMkoEOOBoT2rXjCPAnRDEdFmRiYIyTK\"\n"
      ],
      "metadata": {
        "id": "FDym7oMPzmwL"
      },
      "execution_count": null,
      "outputs": []
    },
    {
      "cell_type": "code",
      "source": [
        "from llama_parse import LlamaParse\n",
        "\n",
        "document = LlamaParse(result_type=\"markdown\").load_data(\"/content/doggo.pdf\")"
      ],
      "metadata": {
        "colab": {
          "base_uri": "https://localhost:8080/"
        },
        "id": "aYIUKOJ_z0eY",
        "outputId": "eb539947-c5a9-4f74-93a2-59789c22f199"
      },
      "execution_count": null,
      "outputs": [
        {
          "output_type": "stream",
          "name": "stdout",
          "text": [
            "Started parsing the file under job_id 064e7ba3-9dab-4ce2-b7f9-62720ebd93b7\n"
          ]
        }
      ]
    },
    {
      "cell_type": "code",
      "source": [
        "document"
      ],
      "metadata": {
        "colab": {
          "base_uri": "https://localhost:8080/"
        },
        "id": "przLOnGO0Ygf",
        "outputId": "813fb9b1-296b-4d0f-9fce-f3e128d5aaee"
      },
      "execution_count": null,
      "outputs": [
        {
          "output_type": "execute_result",
          "data": {
            "text/plain": [
              "[Document(id_='df970370-d8ef-4243-b63f-eaa08da29e1b', embedding=None, metadata={}, excluded_embed_metadata_keys=[], excluded_llm_metadata_keys=[], relationships={}, text='# Ed Frawley’s Philosophy on Dog Training\\n\\nBy: Ed Frawley\\n\\nCopyright Leerburg® Enterprises Inc.', mimetype='text/plain', start_char_idx=None, end_char_idx=None, text_template='{metadata_str}\\n\\n{content}', metadata_template='{key}: {value}', metadata_seperator='\\n'),\n",
              " Document(id_='2936b243-0b59-421e-8b95-92b1e2e029f2', embedding=None, metadata={}, excluded_embed_metadata_keys=[], excluded_llm_metadata_keys=[], relationships={}, text='Leerburg Kennels\\n\\nForeword\\n\\nWhen you view this eBook in PDF format, click on BOOKMARKS on the top left side of your PDF reader; these bookmarks are eBook chapters.\\n\\nLeerburg Kennel and Video is owned by Ed Frawley.\\n\\nEd has owned German Shepherds (GSD) for over 45 years. Since 1978 he has bred over 350 litters of German working bloodline GSD’s. His dogs work in law enforcement, as S&R dogs, as competition Schutzhund dogs, and as family companions and protectors.\\n\\nSince 1980 Ed has produced over 120 dog training videos and DVD’s. He was a police K9 handler for 10 years, competed in several dog sports, including AKC obedience and Schutzhund. In addition he has built one of the top dog training supply businesses in the world.\\n\\nIf you go to the web site Leerburg.com you will see that it has over 10,000 printed pages. The Leerburg Web Discussion board has over 10,000 registered members and over 120,000 posts in the archives. Learn to use our site search function.\\n\\nCopyright Leerburg® Enterprises Inc.', mimetype='text/plain', start_char_idx=None, end_char_idx=None, text_template='{metadata_str}\\n\\n{content}', metadata_template='{key}: {value}', metadata_seperator='\\n'),\n",
              " Document(id_='b9fa6233-d9a3-4015-8648-d13cc2d17d40', embedding=None, metadata={}, excluded_embed_metadata_keys=[], excluded_llm_metadata_keys=[], relationships={}, text='# Leerburg KENNELS Dog Training Pod Cast \"Ed Frawley\\'s\"\\n\\n# Philosophy on Dog Training\\n\\nMy philosophy of how to train dogs has been a journey that began when I was a boy in the 1950’s and continues to this day. I get as excited when I learn something new about dog training today as I did 45 or 50 years ago. For me this journey began as a hobby and has evolved into a life’s passion and work. It will end on the day I die.\\n\\nThere is nothing secretive or magical about training dogs. I have learned that good dog training is pretty much all common sense with a foundation based on experience and a clear understanding of the way\\n\\nCopyright Leerburg® Enterprises Inc.', mimetype='text/plain', start_char_idx=None, end_char_idx=None, text_template='{metadata_str}\\n\\n{content}', metadata_template='{key}: {value}', metadata_seperator='\\n'),\n",
              " Document(id_='0da0e1e3-06f1-4363-90ff-116f98a285eb', embedding=None, metadata={}, excluded_embed_metadata_keys=[], excluded_llm_metadata_keys=[], relationships={}, text='dogs think and interact (pack structure). The key is to get the right experience.\\n\\nOne only needs to spend a couple of hours searching the internet to understand that there are certainly a lot of people out there who lack experience or are basing their training opinions on poorly acquired experience.\\n\\nDog training does not necessarily have to begin when you buy an 8 week old puppy (although it should) or when your 10 year old dog bites a child. In reality it begins on the day you make up your mind to learn how your dog thinks and relates to the world it lives in. It begins when you decide to relate to your dog in a manner that both you and your dog respect and understand. It begins when you make up your mind to develop a meaningful relationship based on trust, communication and control.\\n\\nAlthough our family had owned dogs my entire life I made this decision to really try and understand dogs when I was in high school. I was 16 years old and it was the 1960’s. I owned a rescue dog named King and thought he was the cat’s meow.\\n\\nWe took 2 or 3 walks in the woods every day. He was my best bud. I had him trained to hand signals and verbal commands. One morning, before school, we came out of the woods and King chased a cat into the road. He would not respond to my calls to stop and COME. He ran in front of an Austin Martin sports\\n\\nCopyright Leerburg® Enterprises Inc.', mimetype='text/plain', start_char_idx=None, end_char_idx=None, text_template='{metadata_str}\\n\\n{content}', metadata_template='{key}: {value}', metadata_seperator='\\n'),\n",
              " Document(id_='897566dd-849c-4b58-b817-6a22ddb50792', embedding=None, metadata={}, excluded_embed_metadata_keys=[], excluded_llm_metadata_keys=[], relationships={}, text='car and was killed. To this day I can close my eyes and\\nreplay that event in slow motion.\\n\\nThat one incident changed the way I looked at dog\\ntraining. It caused me to step back and make up\\nmy mind that the next time I would learn how to\\ncommunicate in a way that my dog would listen to\\nme in every scenario and not just in the ones he felt\\nlike doing so.\\n\\nI wrote this article with the thought that it may help\\nother dog owners develop a new approach on how\\nthey relate to and train their dogs. I hope in some\\nsmall way it makes you think and develop or adopt\\nyour own philosophy of how to train your dog.\\n\\nThere are 3 Categories of Dog Trainers\\n\\nThree basic categories of dog trainers which I place\\non a sliding scale.\\n\\nFirst Category\\n\\nThe first category on the left is the group of people\\nwho beg or bribe their dogs to do something by\\noffering a food or toy reward.\\n\\nDon’t get me wrong, I use food and toys in training,\\nbut I also use distractions and corrections. The\\npeople in this first category use neither. All of the\\n\\nCopyright Leerburg® Enterprises Inc.', mimetype='text/plain', start_char_idx=None, end_char_idx=None, text_template='{metadata_str}\\n\\n{content}', metadata_template='{key}: {value}', metadata_seperator='\\n'),\n",
              " Document(id_='3094cd29-5754-4099-bd59-910b76409d02', embedding=None, metadata={}, excluded_embed_metadata_keys=[], excluded_llm_metadata_keys=[], relationships={}, text='large pet food warehouses (i.e. Pet Smart, Petco , or the Monks of New Skeet etc) sponsor this category of ineffective training because they feel it’s politically correct.\\n\\nThe problem with this group is that the dogs often choose to not do what’s asked because they don’t think the reward is worth the task. These dogs end up being pushy, dominant and often antisocial aggressive animals. These are the dogs that are turned into animal shelters as being unmanageable when in fact they act the way they do as a result of ineffective dog training.\\n\\nSecond Category\\n\\nAt the other end of the scale, on the right side, is the second category of dog trainers. These are trainers who intimidate or force their dogs to do what they want (the William Kholer trainers) . I call them the old school “yank and crank” trainers. They put a choke collar on a dog and force it to do everything. Many professional dog trainers use these methods because for them time is money and with enough force a dog can be trained to do almost anything.\\n\\nThe problem with yank and crank trainers is the dogs seldom like their handlers and in fact are often afraid of them. These are the dogs that tuck their tails or lay on the ground when asked to do something. When these dogs are near their owners they don’t look\\n\\nCopyright Leerburg® Enterprises Inc.', mimetype='text/plain', start_char_idx=None, end_char_idx=None, text_template='{metadata_str}\\n\\n{content}', metadata_template='{key}: {value}', metadata_seperator='\\n'),\n",
              " Document(id_='6cd120fb-a021-4887-afa2-0d2e37f173b9', embedding=None, metadata={}, excluded_embed_metadata_keys=[], excluded_llm_metadata_keys=[], relationships={}, text=\"happy because they never know when the hammer is going to fall.\\n\\nThe problem with both of these categories of dog trainers is that their training produces inconsistent results along with dogs that don’t like or respect their owners. If you don’t have a good bond with your dog, or if your dog does not respect you as a pack leader, you will never reach consistency in training.\\n\\nThird Category\\n\\nThe third category of dog trainer is the where I want to be. Category three trainers strive to be in the middle of the other two categories. They balance in the middle but are always prepared to move one way or the other depending on what’s going on in their dog training at a given point in time.\\n\\nThe third group uses food, toys or praise to take a dog through a learning phase. This is where the dog actually learns the meaning of a command – for example it learns the meaning of the word “COME”.\\n\\nOnce the dog understands the meaning of the command the trainer then adds distractions to the program. A good example of this is a dog that has learned the meaning of the command “DOWN - STAY” but now must learn to stay when the owner or someone else tosses a ball in front of the dog's feet or drops a hot dog 4 feet from where he is lying.\\n\\nCopyright Leerburg® Enterprises Inc.\", mimetype='text/plain', start_char_idx=None, end_char_idx=None, text_template='{metadata_str}\\n\\n{content}', metadata_template='{key}: {value}', metadata_seperator='\\n'),\n",
              " Document(id_='b7f80a84-dae6-4616-9575-11982fab8926', embedding=None, metadata={}, excluded_embed_metadata_keys=[], excluded_llm_metadata_keys=[], relationships={}, text=\"When a dog is disobedient under distraction or does not follow directions this third category of dog trainers teaches a dog that they will be corrected for being disobedient.\\n\\nDog are Pack Animals\\n\\nThey Can Love You But Not Respect You.\\n\\nDogs are pack animals. The vast majority of pet owners, 99% of them, fail to understand that the driving force in a dog’s life is its desire to maintain harmony in their pack structure. The majority of behavioral problems develop as a result of poor pack structure in the dog's living environment. This is why I tell people that obedience training is only 25% of the solution to correct behavioral problems and 75% of the solution deals with establishing a sound family pack structure.\\n\\nYour dog can love you and not respect you. You will NEVER love your dog into respecting you. When referring to a canine relationship, love and respect are two unrelated emotions.\\n\\nRespect is gained through hard work, education and experience.\\n\\nWhen my dog shows disrespect I increase the pressure I put on the dog. This means I work the dog harder and control his free time until he shows me the respect that a pack leader must have. Pack\\n\\nCopyright Leerburg® Enterprises Inc.\", mimetype='text/plain', start_char_idx=None, end_char_idx=None, text_template='{metadata_str}\\n\\n{content}', metadata_template='{key}: {value}', metadata_seperator='\\n'),\n",
              " Document(id_='7df7db48-1832-4d6c-a97a-1f2bc0f58f4f', embedding=None, metadata={}, excluded_embed_metadata_keys=[], excluded_llm_metadata_keys=[], relationships={}, text='leaders control the lives of pack members in fair, firm and consistent ways.\\n\\n# how to Build respect and Leadership\\n\\nWhen asked how to build a bond, gain respect and still maintain a leadership role with our dogs, the answer is that we must make sure the dog understands that we will always be fair with him. With that said he has a responsibility to follow known directions and if he refuses there will be consequences.\\n\\nDogs see life in black and white terms. This means they see life in terms of “things that are good for them” and “things that are not good for them”. They don’t understand English and for the most part they don’t reason; they just react to the black parts of life and the white parts of life.\\n\\nThrough experience gained in training we show the dog that we are only going to ask him to do things he knows how to do. When he does something correctly we always let him know he is doing the right thing and we are happy with him. Likewise, when he does something wrong we will ALWAYS let him know he has made a mistake.\\n\\nWe never correct our dog in obedience training for things that he has not been trained to do. This\\n\\nCopyright Leerburg® Enterprises Inc.', mimetype='text/plain', start_char_idx=None, end_char_idx=None, text_template='{metadata_str}\\n\\n{content}', metadata_template='{key}: {value}', metadata_seperator='\\n'),\n",
              " Document(id_='02ae4862-8219-4001-a6b3-9ca7bc2d1f4d', embedding=None, metadata={}, excluded_embed_metadata_keys=[], excluded_llm_metadata_keys=[], relationships={}, text='supports the black and white rule. We don’t correct because “WE THINK HE KNOWS BETTER.” We only correct because we know, through experience gained in training, that he understands a command and is refusing to do it.\\n\\nThe dog must learn that we are 100% consistent in how and when we administer corrections. Being consistent at all times is one of the most important parts of being a pack leader. For example, we can’t ignore aggressive behavior towards guests in our home and then correct the dog when he wants to be aggressive while on walks.\\n\\nI train protection dogs. My dogs learn that the only time they are allowed to be aggressive is when I tell them it’s OK or when I am attacked. Through training, this becomes clear and is very black and white for the dog.\\n\\nIf you study pack behavior, or even herd behavior, you will see that rank issues in the pack are often dealt with very subtly or passively but disrespect is dealt with very quickly and aggressively. The same thing needs to happen in a relationship with a dog. For a correction to be effective it must be administered within 1 ½ seconds of an infraction not an hour after the dog peed on the floor.\\n\\nWhen I hear people say “He knows he did something wrong while I was gone,” I shake my head and feel sorry for that poor dog.\\n\\nCopyright Leerburg® Enterprises Inc.', mimetype='text/plain', start_char_idx=None, end_char_idx=None, text_template='{metadata_str}\\n\\n{content}', metadata_template='{key}: {value}', metadata_seperator='\\n'),\n",
              " Document(id_='670f6e3c-eeb4-404f-8831-aa40be0330a3', embedding=None, metadata={}, excluded_embed_metadata_keys=[], excluded_llm_metadata_keys=[], relationships={}, text='One of the most important parts of training is for the handler to learn to administer corrections at a level that produces harmony in the family pack. This means that the handler must learn when simply saying “NO” is enough of a correction to let the dog know that he is doing something wrong vs. learning when to administer a level 10 leash correction. (e.g. showing aggression to a child)\\n\\nOne of the most difficult things for new trainers to learn is when to administer a correction, what type of correction to administer and how hard that correction should be. I wrote an article titled THE THEORY OF CORRECTIONS IN DOG TRAINING, I recommend that all new dog trainers read this article.\\n\\nNew dog trainers need to remember that a dog learns through repetition. It often takes 30 repetitions for a dog to learn a new command. Trainers are often guilty of thinking their dog understands a command when in fact they have not repeated an exercise often enough for a dog to completely understand that exercise. This results in owners unjustly correcting their dogs for something the dog does not understand. This breaks the black and white rule and destroys the relationship with the handler and dog.\\n\\nMost Trainers are too Passive\\n\\nMost new trainers are too passive. This is either a result of them having a soft personality or\\n\\nCopyright Leerburg® Enterprises Inc.', mimetype='text/plain', start_char_idx=None, end_char_idx=None, text_template='{metadata_str}\\n\\n{content}', metadata_template='{key}: {value}', metadata_seperator='\\n'),\n",
              " Document(id_='301c28ae-8849-43ee-ab10-3b14eed30322', embedding=None, metadata={}, excluded_embed_metadata_keys=[], excluded_llm_metadata_keys=[], relationships={}, text='temperament or it’s the result of the handler being exposed to ineffective and poor dog training techniques. We see this frequently in training classes which only focus on positive training methods while ignoring distractions and corrections. (i.e. classes that only use clickers and head halters like those at PetSmart or PETCO), Don’t get me wrong, I like using clickers. I train with them and markers (rather than a clicker I will use my voice and say “OK “). You can read the article I wrote on my web site about training with markers.\\n\\nThe difference between what I do and what these ineffective obedience classes do is that once the dog has learned an exercise with markers I add distractions.\\n\\nWhen the distraction becomes so high that it promotes disobedience I correct the dog.\\n\\nMy philosophy is the only way to get consistency in training and ANYONE WHO TELLS YOU DIFFERENTLY LACKS EXPERIENCE.\\n\\nOn the other end of the scale we find professional dog trainers who take in customer’s dogs for training. The vast majority of these trainers use far too much force. I have already said “time is money” to these people and they can force a dog into submission a lot quicker than they can take it through a learning phase that uses markers.\\n\\nCopyright Leerburg® Enterprises Inc.', mimetype='text/plain', start_char_idx=None, end_char_idx=None, text_template='{metadata_str}\\n\\n{content}', metadata_template='{key}: {value}', metadata_seperator='\\n'),\n",
              " Document(id_='6084edc2-d8a0-4588-884b-1ba7eeadc142', embedding=None, metadata={}, excluded_embed_metadata_keys=[], excluded_llm_metadata_keys=[], relationships={}, text='Thirty five to forty years ago people trained dogs almost exclusively with force. Read the old William Kholer books. William Kholer is the Model-T of the dog training world. I read them when I was 16 and thought they were the cat’s ass. Since then I have come to realize that Kholer was the master of yank and crank training.\\n\\nIn recent years the pendulum has swung to the other end of the spectrum. Today clickers and head halters with no corrections are the fad. This fad is wrong and is playing itself out in the dog world because we see an explosion of dominance and aggressive dog problems in family pets.\\n\\nOnce again, the correct position is in the middle. The difference between a good trainer and a great trainer is that the great trainer will always maintain balance point between motivation and correction.\\n\\nRespect - Cooperate - Try\\n\\nI tell people my dog should respect me, cooperate and try to do what I ask. If I have that then I can train the dog to do almost anything. For me this is not just “good behavior” it’s” expected behavior”. There is a difference and that’s a very important concept that new trainers must work out in their head.\\n\\nMany people own dogs that are disrespectful and behave badly. When these owners start to train\\n\\nCopyright Leerburg® Enterprises Inc.', mimetype='text/plain', start_char_idx=None, end_char_idx=None, text_template='{metadata_str}\\n\\n{content}', metadata_template='{key}: {value}', metadata_seperator='\\n'),\n",
              " Document(id_='1d9a261b-0912-49f2-9e36-a81ecfdab1a4', embedding=None, metadata={}, excluded_embed_metadata_keys=[], excluded_llm_metadata_keys=[], relationships={}, text='their dogs and the dogs start to mind, the owners mistakenly think their dogs now respect them. These owners are often wrong.\\n\\nRespect is Earned\\n\\nRespect is earned; it develops over time and is the result of good leadership techniques. It’s not uncommon for a dog to mind 80% of the time and still not respect its owner. When dogs like this are asked to do something they don’t want to do and the handler pushes the point to try and force the dog to mind these dogs often become handler aggressive. Their owners find themselves scratching their heads wondering why and what went wrong. What went wrong was a lack of pack structure because a dog with solid pack structure is not going to be aggressive in the presence of its pack leader.\\n\\nThe opposite of this problem are people who ask rather than tell their dogs to do something. They act like they are begging their dog to mind. If you go to any beginner obedience training class you will see this happen again and again. The sad thing is that this attitude in dog training not only produces inconsistent behavior it produces behavioral problems which can also lead to aggression and a dangerous dog.\\n\\nWhen owners learn to apply responsible pack structure techniques and they master the concepts\\n\\nCopyright Leerburg® Enterprises Inc.', mimetype='text/plain', start_char_idx=None, end_char_idx=None, text_template='{metadata_str}\\n\\n{content}', metadata_template='{key}: {value}', metadata_seperator='\\n'),\n",
              " Document(id_='83bdeb62-6c97-4f53-b6fe-624ef4bc2a03', embedding=None, metadata={}, excluded_embed_metadata_keys=[], excluded_llm_metadata_keys=[], relationships={}, text='of a learning phase, a distraction phase, a correction phase along with a maintenance phase they are on the road to being a pack leader.\\n\\nGetting out and actually working with the dog will give people the experience needed to learn the levels of praise and correction that are required to get a dog to do what is wanted. Applying sound pack structure principles in your day to day lives will establish you and family members as higher pack members in your family pack.\\n\\nI wrote an article titled THE GROUND WORK TO ESTABLISHING PACK STRUCTURE. You may want to read it.\\n\\nNever forget that “most dogs prefer being followers.” Most dogs don’t want to be pack leaders. When a dog owner learns to control the lives of a pet he will become the pack leader his dogs want him to be.\\n\\n|Establishing Pack structure with the Family Pet|$40.00 +s&h|\\n|---|---|\\n|4 hours Long|Copyright Leerburg® Enterprises Inc.|', mimetype='text/plain', start_char_idx=None, end_char_idx=None, text_template='{metadata_str}\\n\\n{content}', metadata_template='{key}: {value}', metadata_seperator='\\n'),\n",
              " Document(id_='144fbb58-1c4a-445d-ae95-9221c4b5bc3c', embedding=None, metadata={}, excluded_embed_metadata_keys=[], excluded_llm_metadata_keys=[], relationships={}, text='My Philosophy on Dog Training DVD’s\\n\\nI started producing dog training DVD’s back around 1980 to 1982 (I can’t remember exactly when it seems like I have done them forever).\\n\\nWhen I initially got a video camera (1978) it was to film dog training seminars that I attended for myself so I could review the seminar. After a short while people asked to buy copies of those seminars so I sold them. It did not take long to determine that most clinicians don’t give well organized seminars. They train the next dog to walk on the field and then talk about the training for that dog. Then they go on to the next dog.\\n\\nAfter a few years I realized that I was a sponge for training ideas. So I started to take ideas I had collected and used to organize them into a training video on a specific subject. I get a lot of satisfaction in helping people learn how to train their dog.\\n\\nI am the first to admit that my first videos left a lot to be desired. I tried to put too much into a 2 hour video tape. I thought I was doing customers a favor when in fact I was short changing them.\\n\\nI think my first production was “Training a Competition Obedience Dog.” Well that was foolish. How can one put everything one needs to know about competition obedience into two hours.\\n\\nCopyright Leerburg® Enterprises Inc.', mimetype='text/plain', start_char_idx=None, end_char_idx=None, text_template='{metadata_str}\\n\\n{content}', metadata_template='{key}: {value}', metadata_seperator='\\n'),\n",
              " Document(id_='bda22f23-b4ad-44d8-8e88-85b93b32cf18', embedding=None, metadata={}, excluded_embed_metadata_keys=[], excluded_llm_metadata_keys=[], relationships={}, text='It’s impossible. So the long and the short of this is that I learned to break training exercises down into small parts that everyone can understand and then produce very specific training videos on very specific exercises. I hold nothing back and I think that philosophy has been the back bone of my success in business.\\n\\nNew dog trainers have such an advantage over when I started. They have these DVD’s and the internet to learn from. My web site alone has over 10,000 printed pages. The 120 DVD’s I have produced that offer a wealth of information. I would have killed to have had access to training guides like these 45 years ago.\\n\\nWhen I decided to expand Leerburg into dog training equipment I made the decision to approach equipment sales exactly like I approached training DVD’s. That is find the best I could worldwide and offer only these quality products for sale.\\n\\nBy that I mean I would hold nothing back and I would only sell the best quality products I could find. I would never try and compete with Wall Mart or the pet food warehouses where quality takes a back seat to price points. The success of Leerburg has proven that there are people out there who value quality information and products and they are willing to pay for it.\\n\\nEd Frawley\\n\\nCopyright Leerburg® Enterprises Inc.', mimetype='text/plain', start_char_idx=None, end_char_idx=None, text_template='{metadata_str}\\n\\n{content}', metadata_template='{key}: {value}', metadata_seperator='\\n'),\n",
              " Document(id_='fec367e2-3d62-4fac-9099-d9d3f4684081', embedding=None, metadata={}, excluded_embed_metadata_keys=[], excluded_llm_metadata_keys=[], relationships={}, text='# Leerburg’s Free Podcasts\\n\\nLEErBUrg Dog Training Podcasts\\n\\nLeerburg’s Library of over 300 Training Articles\\n\\nLeerburg’s List of Dog Training DVD’s\\n\\nCopyright Leerburg® Enterprises Inc.', mimetype='text/plain', start_char_idx=None, end_char_idx=None, text_template='{metadata_str}\\n\\n{content}', metadata_template='{key}: {value}', metadata_seperator='\\n'),\n",
              " Document(id_='a9f65553-852b-40ef-9f6a-b4acb35973b5', embedding=None, metadata={}, excluded_embed_metadata_keys=[], excluded_llm_metadata_keys=[], relationships={}, text='Leerburg Web Discussion Board\\n\\nLEERBORG &m\\n\\nLeerburg Web Discussion Board\\n\\nOur FREE Leerburg web discussion board has over 10,000 registered members and 116,000 posts in the archives.\\n\\nYou don’t need to register to read the posts or use the search function to search the archives\\n\\nDownload a Leerburg Catalog - with active links\\n\\nCopyright Leerburg® Enterprises Inc.', mimetype='text/plain', start_char_idx=None, end_char_idx=None, text_template='{metadata_str}\\n\\n{content}', metadata_template='{key}: {value}', metadata_seperator='\\n')]"
            ]
          },
          "metadata": {},
          "execution_count": 5
        }
      ]
    },
    {
      "cell_type": "code",
      "source": [
        "print(document[0].text[:1000])"
      ],
      "metadata": {
        "colab": {
          "base_uri": "https://localhost:8080/"
        },
        "id": "5HZSRMmSzzE_",
        "outputId": "74bd784a-c9b4-4fe1-e2a5-e44b33ed0f8b"
      },
      "execution_count": null,
      "outputs": [
        {
          "output_type": "stream",
          "name": "stdout",
          "text": [
            "# Ed Frawley’s Philosophy on Dog Training\n",
            "\n",
            "By: Ed Frawley\n",
            "\n",
            "Copyright Leerburg® Enterprises Inc.\n"
          ]
        }
      ]
    },
    {
      "cell_type": "code",
      "source": [
        "file_name = \"doggo.md\"\n",
        "with open(file_name, 'w') as file:\n",
        "    file.write(document[0].text)"
      ],
      "metadata": {
        "id": "KeaGJ-781BJE"
      },
      "execution_count": null,
      "outputs": []
    },
    {
      "cell_type": "code",
      "source": [
        "documents_with_instruction = LlamaParse(\n",
        "    result_type=\"markdown\",\n",
        "    parsing_instruction=\"\"\"\n",
        "    This is the Apple anual report. make a summary\n",
        "    \"\"\"\n",
        "    ).load_data(\"/content/apple_10k.pdf\")"
      ],
      "metadata": {
        "colab": {
          "base_uri": "https://localhost:8080/"
        },
        "id": "ud2-XzHP1ch2",
        "outputId": "21aded4a-fc13-4726-ba44-cdc51ce71f55"
      },
      "execution_count": null,
      "outputs": [
        {
          "output_type": "stream",
          "name": "stdout",
          "text": [
            "Started parsing the file under job_id d29f7d17-ae65-4ce7-8f85-1cbec87a1e17\n"
          ]
        }
      ]
    },
    {
      "cell_type": "code",
      "source": [
        "file_name = \"apple_10k_instructions.md\"\n",
        "with open(file_name, 'w') as file:\n",
        "    file.write(documents_with_instruction[0].text)"
      ],
      "metadata": {
        "id": "RrLwiRVs1Io6"
      },
      "execution_count": null,
      "outputs": []
    },
    {
      "cell_type": "code",
      "source": [],
      "metadata": {
        "id": "0ZatB1zb3mh6"
      },
      "execution_count": null,
      "outputs": []
    }
  ]
}